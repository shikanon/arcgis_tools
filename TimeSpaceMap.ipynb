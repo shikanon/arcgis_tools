{
 "metadata": {
  "name": "",
  "signature": "sha256:145ad0b4466f4b92898a58648ac494fcac30b9b908aba0d278981da3f8419de8"
 },
 "nbformat": 3,
 "nbformat_minor": 0,
 "worksheets": [
  {
   "cells": [
    {
     "cell_type": "heading",
     "level": 1,
     "metadata": {},
     "source": [
      "\u5236\u4f5c\u65f6\u95f4\u5730\u56fe"
     ]
    },
    {
     "cell_type": "heading",
     "level": 1,
     "metadata": {},
     "source": [
      "1\u5bfc\u5165\u5e93\u6587\u4ef6"
     ]
    },
    {
     "cell_type": "code",
     "collapsed": false,
     "input": [
      "# -*- coding: utf-8 -*-\n",
      "#author:shikanon\n",
      "#version: python 2.7\n",
      "from shpTools import *\n",
      "import sklearn.manifold as manifold\n",
      "import random\n",
      "import matplotlib.pyplot as plt\n",
      "import numpy as np\n",
      "import pandas as pd\n",
      "import arcpy"
     ],
     "language": "python",
     "metadata": {},
     "outputs": [],
     "prompt_number": 1
    },
    {
     "cell_type": "code",
     "collapsed": false,
     "input": [
      "#\u5f00\u542f\u590d\u5199\u5f00\u5173\n",
      "arcpy.env.overwriteOutput = True"
     ],
     "language": "python",
     "metadata": {},
     "outputs": [],
     "prompt_number": 2
    },
    {
     "cell_type": "heading",
     "level": 2,
     "metadata": {},
     "source": [
      "\u5b9a\u4e49\u51fd\u6570"
     ]
    },
    {
     "cell_type": "code",
     "collapsed": false,
     "input": [
      "def ODmatix(df):\n",
      "    '''\n",
      "    Input:\n",
      "    df is a pandas DataFrame, must have two columns,\n",
      "    one is x, other is y;\n",
      "    Return:\n",
      "    '''\n",
      "    matix = pd.DataFrame(index=df.index,columns=df.index)\n",
      "    matix = matix.fillna(0.0)\n",
      "    #\u8ba1\u7b97\u8ddd\u79bb\n",
      "    for col in matix.columns:\n",
      "        for index in matix.index:\n",
      "            matix[col][index]=(df.get_value(col,'x')-df.get_value(index,'x'))**2+\\\n",
      "                               (df.get_value(col,'y')-df.get_value(index,'y'))**2\n",
      "    return np.sqrt(matix)\n",
      "\n",
      "#\u52a0\u4e0ax,y\u5b57\u6bb5\n",
      "def addXYfield(df):\n",
      "    if 'x' not in df.columns or 'y' not in df.columns:\n",
      "        df['x']=pd.Series(data=np.zeros(df.shape[0]))\n",
      "        df['y']=pd.Series(data=np.zeros(df.shape[0]))\n",
      "\n",
      "#\u5c06\u77e9\u9635\u4fee\u6b63\u4e3a\u5bf9\u79f0\u77e9\u9635\u8f93\u51fa\n",
      "def SymmetricMatrix(pivotTable):\n",
      "    matrix1 = pd.DataFrame(data=np.zeros(pivotTable.shape),index=pivotTable.index,columns=pivotTable.columns)\n",
      "    matrix2 = pd.DataFrame(data=np.zeros(pivotTable.shape),index=pivotTable.index,columns=pivotTable.columns)\n",
      "    for index in pivotTable.index:\n",
      "        for column in pivotTable.columns:\n",
      "            if int(index)>int(column):\n",
      "                matrix1.set_value(index,column,pivotTable[index][column])\n",
      "                matrix1.set_value(column,index,pivotTable[index][column])\n",
      "            elif int(index)<int(column):\n",
      "                matrix2.set_value(index,column,pivotTable[index][column])\n",
      "                matrix2.set_value(column,index,pivotTable[index][column])\n",
      "    return matrix1,matrix2\n",
      "\n",
      "#\u5c06\u5355\u8fb9\u6570\u636e\u8bfb\u53d6\u4e3aOD\u77e9\u9635\u5f62\u5f0f,\u4f5c\u4e3a\u77e9\u9635\u503c\u5f97\u5b57\u6bb5\u540d\u79f0\n",
      "def readHalfShp(shppath,fieldname):\n",
      "    #\u8bfb\u53d6\u6210dataframe\u5f62\u5f0f\n",
      "    df = ReadTable(shppath)\n",
      "    #\u8ddd\u79bb\u77e9\u9635/\u65f6\u95f4\u77e9\u9635,\u884c\u4e3a\u8d77\u59cb\u70b9,\u5217\u4e3a\u76ee\u7684\u5730\n",
      "    Matrix = df.pivot_table(values=fieldname,index='destin_id',columns='origin_id')\n",
      "    #\u5c06\u6a2a\u7eb5\u8865\u5145\u5b8c\u6574,\u4f7f\u5f97\u884c\u5217\u503c\u4e00\u6837\n",
      "    #\u5982\u679c\u5728\u5217\u4e2d\u6ca1\u627e\u5230\u884c\u4e2dindex\u6570\u5b57\u5219\u52a0\u5165\u4e00\u5217\u540d,\u8fd0\u884c\u4e24\u6b21\uff0c\u4e24\u6b21\u53cd\u8f6c\u4e3a\u8fd8\u539f\n",
      "    for run in xrange(2):\n",
      "        for i in Matrix.index:\n",
      "            if i not in Matrix.columns:\n",
      "                Matrix[i] = np.nan\n",
      "        #\u884c\u5217\u53cd\u8f6c\n",
      "        Matrix = Matrix.T\n",
      "        #\u5bf9\u4fee\u6539\u540e\u7684\u884c\u5217\u91cd\u65b0\u6392\u5e8f,sort\u547d\u4ee4\u5bf9index\u8fdb\u884c\u6392\u5e8f\uff0c\u7531\u4e8e\u4fee\u6539\u7684\u4e3a\u5217\uff0c\u6240\u4ee5\u653e\u5728\u8f6c\u7f6e\u540e\u9762\n",
      "        Matrix = Matrix.sort()\n",
      "    #\u901a\u8fc7\u5bf9\u79f0\u65b9\u5f0f\u5c06\u7f3a\u7701\u503c\u8865\u5145\u5b8c\u6574,\n",
      "    for index in Matrix.index:\n",
      "        for col in Matrix.columns:\n",
      "            #'\\x00\\x00\\x00\\x00\\x00\\x00\\xf8\\x7f'\u8868\u793a\u7a7a\u503c\u7684\u6587\u5b57\u4ee3\u7801\n",
      "            if Matrix[col][index].tostring() == '\\x00\\x00\\x00\\x00\\x00\\x00\\xf8\\x7f':\n",
      "                #\u5982\u679c\u4e3a\u7a7a\u503c\uff0c\u628a\u5bf9\u79f0\u65b9\u5411\u7684\u503c\u590d\u5236\u8fc7\u6765\n",
      "                Matrix[col][index] = Matrix[index][col]\n",
      "    return Matrix.fillna(0)\n",
      "\n",
      "#\u591a\u4e2a\u5355\u8fb9\u6570\u636e\uff0c\u6c42\u5e73\u5747\u503c\u51fd\u6570\n",
      "def avgforHalfShp(listpath,fieldname):\n",
      "    matrix = readHalfShp(listpath[0],fieldname)\n",
      "    for ls in range(len(listpath)):\n",
      "        if ls > 0:\n",
      "            matrix = matrix + readHalfShp(listpath[ls],fieldname)\n",
      "    matrix = matrix/len(listpath)\n",
      "    return matrix\n",
      "\n",
      "#\u5c06\u6709dataframe\u7684x,y\u4f5c\u7528\u5230shp\u5b57\u6bb5\n",
      "def dfxy2shp(df):\n",
      "    for i in xrange(len(df.index)):\n",
      "        point = arcpy.Point()\n",
      "        point.X = df['x'][i]\n",
      "        point.Y = df['y'][i]\n",
      "        df['Shape'].iloc[i] = arcpy.PointGeometry(point)\n",
      "    return df\n",
      "\n",
      "\n",
      "#\u7528\u4e00\u4e2a\u57fa\u70b9\u4f5c\u4e3a\u50a8\u5b58\u8868,\u5bfc\u51fa\u57fa\u4e8e\u65b0\u5750\u6807\u7684\u65b0\u8868\uff0c\u57fa\u70b9\u8868\u4e0d\u4f1a\u88ab\u6539\u53d8\n",
      "def makeCoords2df(insertdf,coords):\n",
      "    '''\n",
      "    Input:\n",
      "    coords is a coords list,[[x,y],[x,y],...]'''\n",
      "    #\u4e3a\u4e86\u9632\u6b62\u4f20\u5165\u6570\u636e\u88ab\u4fee\u6539,\u6545\u590d\u5236\u4e00\u4efd\n",
      "    df = insertdf.copy()\n",
      "    addXYfield(df)\n",
      "    if df.shape[0] == len(coords):\n",
      "        for i in xrange(len(df.index)):\n",
      "            df['x'].iloc[i] = coords[i][0]\n",
      "            df['y'].iloc[i] = coords[i][1]\n",
      "    else:\n",
      "        print 'Error, the shape is no equel!,the datatable is %d, and the coords number is %d'%(df.shape[0],len(coords))\n",
      "    return dfxy2shp(df)"
     ],
     "language": "python",
     "metadata": {},
     "outputs": [],
     "prompt_number": 3
    },
    {
     "cell_type": "markdown",
     "metadata": {},
     "source": [
      "\u6b64\u4e3a\u53d8\u6362\u51fd\u6570\uff0c\u5305\u62ec\u955c\u50cf\uff0c\u5e73\u79fb\uff0c\u65cb\u8f6c\u7b49\n"
     ]
    },
    {
     "cell_type": "code",
     "collapsed": false,
     "input": [
      "\n",
      "\n",
      "#\u901a\u8fc7\u968f\u610f\u4e24\u70b9\u68c0\u67e5\u662f\u5426\u4e3a\u955c\u50cf\n",
      "def makeMirror(origindf):\n",
      "    '''\n",
      "    Input:\n",
      "    coords is a DataFrame, there have same index,\n",
      "    and have the columns of x,y'''\n",
      "    #\u590d\u5236\u4e00\u4efd\u955c\u50cf\u4f20\u51fa\n",
      "    mirrordf = origindf.copy()\n",
      "    mirrordf['x'] = - mirrordf['x']\n",
      "    mirrordf = dfxy2shp(mirrordf)\n",
      "    return mirrordf\n",
      "\n",
      "#\u5c06\u76ee\u6807\u56fe\u5f62\u548c\u5f85\u79fb\u52a8\u56fe\u5f62\u4e24\u8005\u7684\u4e2d\u5fc3\u70b9\u79fb\u52a8\u5230\u4e00\u5757\n",
      "def baseCenterMove(constdf,changedf):\n",
      "    '''\n",
      "    Input:\n",
      "    constdf,movedf must be a DataFrame, there have same index,\n",
      "    and have the columns of x,y'''\n",
      "    movedf = changedf.copy()\n",
      "    #\u5747\u503c\u5dee\n",
      "    diffx = np.average(constdf['x']) - np.average(movedf['x'])\n",
      "    diffy =  np.average(constdf['y']) - np.average(movedf['y'])\n",
      "    movedf['x'] = movedf['x'] + diffx\n",
      "    movedf['y'] = movedf['y'] + diffy\n",
      "    movedf = dfxy2shp(movedf)\n",
      "    return movedf\n",
      "\n",
      "#\u4ee5\u76ee\u6807\u56fe\u5f62\u5230\u4e2d\u5fc3\u70b9\u6700\u5927\u8ddd\u79bb\u4e3a\u53c2\u8003\u8fdb\u884c\u653e\u7f29\n",
      "def zoomMax(constdf,changedf):\n",
      "    '''\n",
      "    Input:\n",
      "    constdf,movedf must be a DataFrame, there have same index,\n",
      "    and have the columns of x,y'''\n",
      "    #\u590d\u5236\u9632\u6b62\u4fee\u6539\u539f\u6570\u636e\n",
      "    zoomdf = changedf.copy()\n",
      "    constCoords = constdf.copy()\n",
      "    #\u4ee5\u4e2d\u5fc3\u70b9\u4f5c\u4e3a\u653e\u7f29\u57fa\u70b9\n",
      "    constCoords['x'] = constCoords['x'] - np.average(constCoords['x'])\n",
      "    constCoords['y'] = constCoords['y'] - np.average(constCoords['y'])\n",
      "    zoomdf['x'] = zoomdf['x'] - np.average(zoomdf['x'])\n",
      "    zoomdf['y'] = zoomdf['y'] - np.average(zoomdf['y'])\n",
      "    #\u8fb9\u957f\n",
      "    constLength = np.sqrt(np.square(constCoords['x'])+np.square(constCoords['y']))\n",
      "    unchangLength = np.sqrt(np.square(zoomdf['x'])+np.square(zoomdf['y']))\n",
      "    #\u4e58\u4ee5\u6bd4\u503c,\u4fdd\u8bc1\u4e24\u8005\u6700\u5927\u503c\u76f8\u7b49,\u7531\u4e8e\u524dx,y\u7684\u5e73\u5747\u503c\u5df2\u4fee\u6539,\u4e3a\u4e86\u9632\u6b62\u4fee\u6539\u539f\u6570\u636e\u8fd9\u91cc\u8c03\u7528\u4e00\u4e2acopy\u6570\u636e.\n",
      "    zoomdf['x'] = changedf['x'].copy()*(constLength.max()/unchangLength.max())\n",
      "    zoomdf['y'] = changedf['y'].copy()*(constLength.max()/unchangLength.max())\n",
      "    print constLength.max()/unchangLength.max()\n",
      "    zoomdf = dfxy2shp(zoomdf)\n",
      "    return zoomdf\n",
      "\n",
      "def XY2shp(coords):\n",
      "    '''\n",
      "    Input:\n",
      "    coords is a coords list,[[x,y],[x,y],...]'''\n",
      "    feature = []\n",
      "    point = arcpy.Point()\n",
      "    for pt in coords:\n",
      "        point.X = pt[0]\n",
      "        point.Y = pt[1]\n",
      "        feature.append(arcpy.PointGeometry(point))\n",
      "    return feature"
     ],
     "language": "python",
     "metadata": {},
     "outputs": [],
     "prompt_number": 4
    },
    {
     "cell_type": "markdown",
     "metadata": {},
     "source": [
      "\u5750\u6807\u65cb\u8f6c\n",
      "\u4ee5\u4e2d\u5fc3\u70b9(\u6240\u6709\u70b9\u7684\u5e73\u5747\u503c)\u4f5c\u4e3a\u57fa\u70b9\u5750\u6807\uff0c\u56f4\u7ed5\u4e2d\u5fc3\u70b9\u8fdb\u884c\u65cb\u8f6c\u548c\u5bf9\u79f0\u955c\u50cf,\u4fee\u6b63\u56fe\u5f62\u65b9\u5411\u3002"
     ]
    },
    {
     "cell_type": "code",
     "collapsed": false,
     "input": [
      "#\u89d2\u5ea6\u8ba1\u7b97\u51fd\u6570,\u53ef\u4ee5\u6839\u636ex,y\u8ba1\u7b97\u4e0e\u539f\u70b9\u7684\u5f27\u5ea6\n",
      "def getDegree(df):\n",
      "    #\u4e0d\u80fd\u7528arctan\u4ee5\u9632\u4e3a90\u5ea6\u629b\u51fa\u9519\u8bef\n",
      "    sinDegree = np.arcsin(\n",
      "        df['y']/np.sqrt(np.square(df['x'])+np.square(df['y']))\n",
      "        )\n",
      "    #\u5224\u65ad\u5176\u5728\u7b2c\u51e0\u8c61\u9650,\u5982\u679c\u4e3a\u4e8c\u4e09\u8c61\u9650\u9700\u8f6c\u6362\n",
      "    if type(df) is type(pd.Series()):\n",
      "        if df['x']<0:\n",
      "            Degree = np.pi - sinDegree \n",
      "        else:\n",
      "            Degree = sinDegree\n",
      "    elif type(df) is type(pd.DataFrame()):\n",
      "        #\u901a\u8fc70,1\u77e9\u9635\u8ba1\u7b97,\u4f46x\u5c0f\u4e8e0,\u4e3a180-a,\u5927\u4e8e0\u4e3aa\n",
      "        Degree = (df['x']<0)*(np.pi - 2*sinDegree) +sinDegree\n",
      "    return Degree\n",
      "\n",
      "#\u65cb\u8f6c\u4e4b\u524d\u9700\u8981\u8c03\u6574\u5bf9\u79f0,\u4f20\u5165\u53c2\u6570rotatCoords\u4f1a\u88ab\u4fee\u6539\uff0c\u4f20\u5165\u524d\u8bf7\u505a\u597d\u5907\u4efd\n",
      "def Rotation(constdf,changdf):\n",
      "    '''\n",
      "    Input:\n",
      "    coords is a DataFrame, there have same index,\n",
      "    and have the columns of x,y'''\n",
      "    #\u4fdd\u6301\u957f\u5ea6\u4e0d\u53d8\uff0c\u628a\u6bcf\u4e2a\u70b9\u7684\u53d8\u6210\u76ee\u6807\u5750\u6807\u89d2\u5ea6\n",
      "    constCoords = constdf.copy()\n",
      "    rotatCoords = changdf.copy()\n",
      "    #\u7531\u4e8e\u65cb\u8f6c\u65e0\u6cd5\u5bf9\u955c\u50cf\u56fe\u50cf\u4fee\u6b63\uff0c\u5f00\u542f\u955c\u50cf\u5b88\u62a4\u547d\u4ee4\uff0c\n",
      "    mirror=True\n",
      "    #\u8fed\u5e26\u6b21\u6570,\u53d6\u8fed\u4ee3\u6b21\u6570\u89d2\u5ea6\u5dee\u5f02\u6700\u5c0f\u503c\n",
      "    iteration = 70\n",
      "    #\u9009\u53d6\u65cb\u8f6c\u53c2\u8003\u70b9\u503c,\u50a8\u5b58\u6700\u5c0f\u503c\uff0c\u4f7f\u5f97\u53ef\u4ee5\u56de\u5230\u6700\u5c0f\u503c\n",
      "    basepoint = {}\n",
      "    while mirror:\n",
      "\n",
      "        #\u6c42\u4e2d\u5fc3\u70b9,\u6807\u51c6\u5316\u4f7f\u5f970\u4e3a\u4e2d\u5fc3\u70b9\n",
      "        constCoords['x'] = constCoords['x'] - np.average(constCoords['x'])\n",
      "        constCoords['y'] = constCoords['y'] - np.average(constCoords['y'])\n",
      "        rotatCoords['x'] = rotatCoords['x'] - np.average(rotatCoords['x'])\n",
      "        rotatCoords['y'] = rotatCoords['y'] - np.average(rotatCoords['y'])\n",
      "        #\u6c42\u5f97\u4e00\u4e2a\u9009\u62e9\u89d2\u5ea6diffDegree\n",
      "        #\u76ee\u6807\u89d2\u5ea6\u4e0e\u5f85\u65cb\u8f6c\u89d2\u5ea6\u5dee\u503c\n",
      "        constSinDegree = getDegree(constCoords).fillna(0)\n",
      "        rotatSinDegree = getDegree(rotatCoords).fillna(0)\n",
      "        diffDegree = constSinDegree - rotatSinDegree\n",
      "        #\u627e\u51fa\u5176\u4e2d\u4e00\u4e2a\u70b9\u8fdb\u884c\u4e0e\u4e2d\u5fc3\u70b9\u53c2\u7167\u8fdb\u884c\u65cb\u8f6c\n",
      "        if iteration <0:\n",
      "            #basepoint\u53d6\u6700\u5c0f\u503c\u65f6,basepointdindex\u4e3a\u591a\u5c11\n",
      "            for b in basepoint.items():\n",
      "                if b[1] < basepoint[basepointindex]:\n",
      "                    basepointindex = b[0]\n",
      "        else:\n",
      "            basepointindex = random.randint(0,len(diffDegree)-1)\n",
      "        diffDegree = diffDegree[basepointindex]\n",
      "        #\u65cb\u8f6c\u53d8\u6362,\u6240\u6709\u7684\u5750\u6807\u4e00\u8d77\u9009\u62e9\u6b64\u89d2\u5ea6\u64cd\u4f5c\n",
      "        #\u8fb9\u957f\n",
      "        length = np.sqrt(np.square(rotatCoords['x'])+np.square(rotatCoords['y']))\n",
      "        #\u9632\u6b62\u540e\u9762rotatCoords['x']\u8d4b\u503c\u540e\u88ab\u4fee\u6539\uff0c\u5728\u8fd9\u5e94\u8be5\u52a0\u5165\u4e00\u4e2aDegree\u53d8\u91cf\u50a8\u5b58\n",
      "        Degree = getDegree(rotatCoords).fillna(0) + diffDegree\n",
      "        #\u6c42x,y\u5e76\u76f4\u63a5\u4fee\u6539rotatCoords\n",
      "        rotatCoords['x'] = length*(np.cos(Degree))\n",
      "        rotatCoords['y'] = length*(np.sin(Degree))\n",
      "        #\u68c0\u67e5\u65cb\u8f6c\u540e\u7684\u5750\u6807\u6807\u51c6\u5dee\u662f\u5426\u8fc7\u5927:\n",
      "        afterRotatDegree = getDegree(rotatCoords).fillna(0)\n",
      "        #\u4e0e\u5bf9\u6bd4\u70b9\u4e24\u8005\u4e4b\u95f4\u7684\u89d2\u5ea6\u5dee\u503c\n",
      "        degreestd = np.std(np.degrees(constSinDegree - afterRotatDegree))\n",
      "        if degreestd < 1 or (iteration<0 and degreestd<= (min(basepoint.values())+0.000001)):\n",
      "            mirror=False\n",
      "            print 'the degree far from Target at %f '%degreestd\n",
      "            #\u52a0\u4e0a\u62f7\u8d1d\u5e73\u5747\u503c,\u8fd8\u539f\u4e2d\u5fc3\u70b9\u6807\u51c6\u5316\n",
      "            #rotatCoords['x'] = rotatCoords['x'] + np.average(changdf.copy()['x'])\n",
      "            #rotatCoords['y'] = rotatCoords['y'] + np.average(changdf.copy()['y'])\n",
      "        else:\n",
      "            #print 'the angel cannot fit, far from %f'%degreestd\n",
      "            rotatCoords = makeMirror(rotatCoords)\n",
      "            iteration = iteration - 1\n",
      "            #\u5c06\u8bb0\u5f55\u653e\u5165\u65cb\u8f6c\u70b9\u96c6\uff0c\u7528\u4e8e\u540e\u671f\u6bd4\u8f83\u9009\u53d6\u6700\u5c0f\u503c\n",
      "            if basepointindex in basepoint.keys():\n",
      "                if basepoint[basepointindex] > degreestd:\n",
      "                    basepoint[basepointindex] = degreestd\n",
      "            else:\n",
      "                basepoint[basepointindex] = degreestd\n",
      "            #print 'iteration number is %d'%iteration\n",
      "    #\u5c06x,y\u4f5c\u7528\u5230shp\u5b57\u6bb5\n",
      "    rotatCoords = dfxy2shp(rotatCoords)\n",
      "    return rotatCoords"
     ],
     "language": "python",
     "metadata": {},
     "outputs": [],
     "prompt_number": 5
    },
    {
     "cell_type": "markdown",
     "metadata": {},
     "source": [
      "\u901a\u8fc7MDS\u6c42\u51fa\u5177\u6709\u4f4d\u7f6e\u5173\u7cfb\u7684\u5750\u6807\u914d\u7f6e\u6587\u4ef6\uff0c\u8be5\u5750\u6807\u914d\u7f6e\u6587\u4ef6\u4ec5\u662f\u5404\u5750\u6807\u70b9\u76f8\u5bf9\u4f4d\u7f6e\u5750\u6807\uff0c\u5c06\u914d\u7f6e\u6587\u4ef6\u8fdb\u884c\u76f8\u4f3c\u6027\u6295\u5f71(\u65cb\u8f6c\u3001\u955c\u50cf\u3001\u5e73\u79fb\u3001\u653e\u7f29\u3001\u79fb\u52a8\u81f3\u539f\u6765\u4f4d\u7f6e)\u5f97\u5230\u53d8\u5f62\u7684\u65f6\u7a7a\u5730\u56fe(time-space Map)\u3002\u5176\u64cd\u4f5c\u987a\u5e8f\u4e3a\u955c\u50cf\u65cb\u8f6c\u3001\u5e73\u79fb\u3002"
     ]
    },
    {
     "cell_type": "markdown",
     "metadata": {},
     "source": [
      "\u4ee5\u4e0b\u4ee3\u7801\u4e3a\u5355\u8fb9\u6a21\u5f0f(\u5373\u6240\u6709\u6570\u636e\u8981\u4e48\u4e3a\u8d77\u70b9\u8981\u4e48\u4e3a\u7ec8\u70b9)\u7684\u65f6\u95f4\u5730\u56fe\u5236\u4f5c"
     ]
    },
    {
     "cell_type": "code",
     "collapsed": false,
     "input": [
      "#\u5236\u4f5c\u65f6\u7a7a\u53d8\u5f62\u5730\u56fe\n",
      "def makeTimeSpaceMap(datapath,basePointPath,fieldname):\n",
      "    #\u6839\u636e\u4e0d\u540c\u7c7b\u578b\u8bfb\u53d6\u8868\u6570\u636e\n",
      "    if type(datapath) in [str,unicode]:\n",
      "        timeMatrix = readHalfShp(datapath,fieldname)\n",
      "    elif type(datapath) is list:\n",
      "        timeMatrix = avgforHalfShp(datapath,fieldname)\n",
      "    else:\n",
      "        print 'datapath is unavailable type!'\n",
      "    #\u6784\u5efa\u57fa\u70b9\uff0c\u7528\u4e8e\u5b58\u50a8\u8f6c\u6362\u540e\u5750\u6807\u6570\u636e\uff0c\u7528\u4e8e\u7a7a\u95f4\u6821\u6b63(\u65cb\u8f6c\u5e73\u79fb)\u5750\u6807\u6570\u636e\n",
      "    basePoint = ReadTable(basePointPath)\n",
      "    #addXYfield(basePoint)\n",
      "    #MDS\u5904\u7406\u7684\u6570\u636e\u5f62\u5f0f\u4e3a[[x1,x2,..][x21,x22,..]],\u6b64\u4e3a\u8bbe\u7f6e\u53c2\u6570\u6784\u5efa\u7c7b\n",
      "    mds1 = manifold.MDS(n_components=2,max_iter=2000,eps=1e-12,dissimilarity='precomputed')\n",
      "    mds1.fit(timeMatrix)\n",
      "    #\u5bf9\u8f93\u5165\u77e9\u9635\u8fdb\u884cMDS\u62df\u5408\n",
      "    transcoords = mds1.fit_transform(timeMatrix)\n",
      "    #\u7528\u4e00\u4e2a\u57fa\u70b9\u4f5c\u4e3a\u50a8\u5b58\u8868,\u5c06\u5750\u6807\u70b9\u50a8\u5b58\u8fdbx,y\u4e2d\u5e76\u4fee\u6539\u56fe\u5f62\uff0c\u57fa\u70b9\u8868\u4e0d\u4f1a\u88ab\u6539\u53d8\n",
      "    timexydf = makeCoords2df(basePoint,transcoords)\n",
      "    #\u6c42\u8f93\u51fa\u7684\u65f6\u7a7a\u77e9\u9635\u548c\u539fOD\u77e9\u9635\u7684\u5e73\u5747\u8bef\u5dee\n",
      "    #\u5c06\u65b0\u7684OD\u65f6\u7a7a\u77e9\u9635\n",
      "    newTimeMapOD = ODmatix(timexydf)\n",
      "    #\u9664\u6570\u4e0d\u80fd\u4e3a0,\u56e0\u6b64averageDeviation\u9700\u8981\u7528fillna(0)\u5c060\u6d88\u9664\u6389\n",
      "    averageRatioDeviation = np.average(((newTimeMapOD-timeMatrix).abs()/timeMatrix).fillna(0))\n",
      "    averageDeviation = np.average(((newTimeMapOD-timeMatrix)).fillna(0))\n",
      "    StandardDeviation = (newTimeMapOD-timeMatrix).fillna(0).std(0).std()\n",
      "    KruskalStress = ((((newTimeMapOD-timeMatrix)**2).sum().sum())/(timeMatrix**2).sum().sum())**(0.5)\n",
      "    print 'the error of average ratio of the MDS fit is %f, and about %f units, and its standard deviation is %f units, Kruskal Stress is %f.'\\\n",
      "    %(averageRatioDeviation,averageDeviation,StandardDeviation,KruskalStress)\n",
      "\n",
      "    rotatmapdf = timexydf.copy()\n",
      "    #\u955c\u50cf\u65cb\u8f6c\u3001\u5e73\u79fb\n",
      "    rotatdf = Rotation(basePoint,rotatmapdf)\n",
      "    rotatdf = baseCenterMove(basePoint,rotatdf)\n",
      "    return rotatdf"
     ],
     "language": "python",
     "metadata": {},
     "outputs": [],
     "prompt_number": 6
    },
    {
     "cell_type": "code",
     "collapsed": false,
     "input": [
      "outputpath = u'./data/distancemap.shp'\n",
      "datapath = u'./data/drivingDistance0601.shp'\n",
      "basePointPath = u'./data/GZ2010_point.shp'\n",
      "distancemap = makeTimeSpaceMap(datapath,basePointPath,'distance')\n",
      "#\u8f93\u51fa\u5b58\u50a8\n",
      "PandasToShpTemplate(distancemap,outputpath,'',basePointPath)"
     ],
     "language": "python",
     "metadata": {},
     "outputs": [
      {
       "output_type": "stream",
       "stream": "stdout",
       "text": [
        "the error of average ratio of the MDS fit is 0.077422, and about -475.822731 units, and its standard deviation is 1076.559243 units, Kruskal Stress is 0.059657.\n",
        "the degree far from Target at 57.069460 "
       ]
      },
      {
       "output_type": "stream",
       "stream": "stdout",
       "text": [
        "\n",
        "Pandas to shp finish!"
       ]
      },
      {
       "output_type": "stream",
       "stream": "stdout",
       "text": [
        "\n"
       ]
      }
     ],
     "prompt_number": 50
    },
    {
     "cell_type": "code",
     "collapsed": false,
     "input": [
      "datapath = [u'./data/drivingTime0526.shp',u'./data/drivingTime0527.shp',u'./data/drivingTime0528.shp',u'./data/drivingTime0530.shp',\\\n",
      "            u'./data/drivingTime0531.shp']\n",
      "outputpath = u'./data/timeMap.shp'\n",
      "basePointPath = u'./data/GZ2010_point.shp'\n",
      "timemap = makeTimeSpaceMap(datapath,basePointPath,'time')\n",
      "#\u8f93\u51fa\u5b58\u50a8\n",
      "PandasToShpTemplate(timemap,outputpath,'',basePointPath)"
     ],
     "language": "python",
     "metadata": {},
     "outputs": [
      {
       "output_type": "stream",
       "stream": "stdout",
       "text": [
        "the error of average ratio of the MDS fit is 0.162824, and about -164.886082 units, and its standard deviation is 148.441287 units, Kruskal Stress is 0.149829.\n",
        "the degree far from Target at 52.522564 "
       ]
      },
      {
       "output_type": "stream",
       "stream": "stdout",
       "text": [
        "\n",
        "Pandas to shp finish!"
       ]
      },
      {
       "output_type": "stream",
       "stream": "stdout",
       "text": [
        "\n"
       ]
      }
     ],
     "prompt_number": 51
    },
    {
     "cell_type": "markdown",
     "metadata": {},
     "source": [
      "\u4e0b\u9762\u4ee3\u7801\u4e3a\u53cc\u8fb9(\u8d77\u70b9-\u7ec8\u70b9\uff0c\u7ec8\u70b9-\u8d77\u70b9)\u6a21\u5f0f\u6570\u636e\u7684\u65f6\u95f4\u5730\u56fe\u5236\u4f5c"
     ]
    },
    {
     "cell_type": "code",
     "collapsed": false,
     "input": [
      "datapath = u'./data/baseTimeDrivePolyLine0515.shp'\n",
      "outputDistanceMap = u'./data/distanceMap.shp'\n",
      "data = ReadTable(datapath)\n",
      "\n",
      "#\u8ddd\u79bb\u77e9\u9635/\u65f6\u95f4\u77e9\u9635,\u884c\u4e3a\u8d77\u59cb\u70b9,\u5217\u4e3a\u76ee\u7684\u5730\n",
      "distanceMatrix = data.pivot_table(values='distance',index='destin_id',columns='origin_id')\n",
      "timeMatrix = data.pivot_table(values='distance',index='destin_id',columns='origin_id')\n",
      "#\u767e\u5ea6\u57fa\u70b9\u5750\u6807\n",
      "baiduPointPath = u'./data/BaiduPoint.shp'\n",
      "basePoint = ReadTable(baiduPointPath)\n",
      "\n",
      "outpath = u'H:/\u7814\u7a76\u751f\u4f5c\u4e1a/Urban Geography\u6295\u7a3f/code/data/test1.shp'\n",
      "\n",
      "distanceMatrix1,distanceMatrix2 = SymmetricMatrix(distanceMatrix)\n",
      "distanceMatrix1,distanceMatrix2 = distanceMatrix1.fillna(0),distanceMatrix2.fillna(0)\n",
      "#MDS\u5904\u7406\u7684\u6570\u636e\u5f62\u5f0f\u4e3a[[x1,x2,..][x21,x22,..]],\u6b64\u4e3a\u8bbe\u7f6e\u53c2\u6570\u6784\u5efa\u7c7b\n",
      "mds1 = manifold.MDS(n_components=2,max_iter=1000,eps=1e-6,dissimilarity='precomputed')\n",
      "mds1.fit(distanceMatrix1)\n",
      "#\u5bf9\u8f93\u5165\u77e9\u9635\u8fdb\u884cMDS\u62df\u5408\n",
      "transcoords = mds1.fit_transform(distanceMatrix1)\n",
      "#\u7528\u4e00\u4e2a\u57fa\u70b9\u4f5c\u4e3a\u50a8\u5b58\u8868,\u5c06\u5750\u6807\u70b9\u50a8\u5b58\u8fdbx,y\u4e2d\u5e76\u4fee\u6539\u56fe\u5f62\uff0c\u57fa\u70b9\u8868\u4e0d\u4f1a\u88ab\u6539\u53d8\n",
      "timexydf = makeCoords2df(basePoint,transcoords)\n",
      "#\u6c42\u8f93\u51fa\u7684\u65f6\u7a7a\u77e9\u9635\u548c\u539fOD\u77e9\u9635\u7684\u5e73\u5747\u8bef\u5dee\n",
      "#\u5c06\u65b0\u7684OD\u65f6\u7a7a\u77e9\u9635\n",
      "newTimeMapOD = ODmatix(timexydf)\n",
      "#\u9664\u6570\u4e0d\u80fd\u4e3a0,\u56e0\u6b64averageDeviation\u9700\u8981\u7528fillna(0)\u5c060\u6d88\u9664\u6389\n",
      "averageRatioDeviation = np.average(((newTimeMapOD-distanceMatrix1).abs()/distanceMatrix1).fillna(0))\n",
      "averageDeviation = np.average(((newTimeMapOD-distanceMatrix1).abs()).fillna(0))\n",
      "StandardDeviation = ((newTimeMapOD-distanceMatrix1)).fillna(0).std(0).std()\n",
      "print 'the error of average ratio of the MDS fit is %f, and about %f meter, and its standard deviation is %f meter.'\\\n",
      "%(averageRatioDeviation,averageDeviation,StandardDeviation)\n",
      "\n",
      "\n",
      "#\u955c\u50cf\u65cb\u8f6c\u3001\u5e73\u79fb\n",
      "#rotatdf = Rotation(basePoint,rotatmapdf)\n",
      "#rotatdf = baseCenterMove(origindf,rotatdf)"
     ],
     "language": "python",
     "metadata": {},
     "outputs": [
      {
       "output_type": "stream",
       "stream": "stdout",
       "text": [
        "the error of average ratio of the MDS fit is 0.087619, and about 2387.296465 meter, and its standard deviation is 1373.194446 meter.\n"
       ]
      }
     ],
     "prompt_number": 57
    },
    {
     "cell_type": "markdown",
     "metadata": {},
     "source": [
      "\u5bf9\u751f\u4ea7\u7684\u65f6\u7a7a\u914d\u7f6e\u5750\u6807\u8fdb\u884c\u65cb\u8f6c\u5e73\u79fb\u5f97\u5230\u548c\u539f\u5750\u6807\u76f8\u4f3c\u4f4d\u7f6e\u7684\u5750\u6807\u70b9"
     ]
    },
    {
     "cell_type": "code",
     "collapsed": false,
     "input": [
      "rotatmapdf = timexydf.copy()\n",
      "#\u955c\u50cf\u65cb\u8f6c\u3001\u5e73\u79fb\n",
      "rotatdf = Rotation(basePoint,rotatmapdf)\n",
      "#rotatdf = baseCenterMove(basePoint,rotatdf)"
     ],
     "language": "python",
     "metadata": {},
     "outputs": [
      {
       "output_type": "stream",
       "stream": "stdout",
       "text": [
        "the degree far from Target at 51.675524 \n"
       ]
      }
     ],
     "prompt_number": 62
    },
    {
     "cell_type": "code",
     "collapsed": false,
     "input": [
      "#\u8f93\u51fa\u5b58\u50a8\n",
      "PandasToShpTemplate(rotatdf,outpath,'',baiduPointPath)\n",
      "#mirrordf = makeMirror(rotatdf)\n",
      "#PandasToShpTemplate(mirrordf,u'H:/\u7814\u7a76\u751f\u4f5c\u4e1a/Urban Geography\u6295\u7a3f/code/data/testOO.shp','','./data/BaiduPoint.shp')"
     ],
     "language": "python",
     "metadata": {},
     "outputs": [
      {
       "output_type": "stream",
       "stream": "stdout",
       "text": [
        "Pandas to shp finish!\n"
       ]
      }
     ],
     "prompt_number": 60
    }
   ],
   "metadata": {}
  }
 ]
}